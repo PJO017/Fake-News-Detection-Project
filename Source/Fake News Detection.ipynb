{
 "cells": [
  {
   "cell_type": "code",
   "execution_count": null,
   "id": "54fae1a7",
   "metadata": {},
   "outputs": [],
   "source": [
    "import pandas as pd\n",
    "import numpy as np\n",
    "import re\n",
    "\n",
    "import matplotlib.pyplot as plt\n",
    "\n",
    "import nltk\n",
    "from nltk.corpus import stopwords\n",
    "from nltk.tokenize import word_tokenize\n",
    "\n",
    "from sklearn.feature_extraction.text import CountVectorizer\n",
    "\n",
    "nltk.download('stopwords')\n",
    "nltk.download('punkt')"
   ]
  },
  {
   "cell_type": "markdown",
   "id": "7c478cd5",
   "metadata": {},
   "source": [
    "### Data Preprocessing\n",
    "Integrating datasets into two data frames, True and False"
   ]
  },
  {
   "cell_type": "code",
   "execution_count": null,
   "id": "e021c386",
   "metadata": {},
   "outputs": [],
   "source": [
    "df1 = pd.read_csv('Data/archive/Fake.csv')\n",
    "df1['label'] = 'Fake'\n",
    "del df1['subject']\n",
    "del df1['date']"
   ]
  },
  {
   "cell_type": "code",
   "execution_count": null,
   "id": "d7a37a7e",
   "metadata": {},
   "outputs": [],
   "source": [
    "df2 = pd.read_csv('Data/archive/True.csv')\n",
    "df2['label'] = 'True'\n",
    "del df2['subject']\n",
    "del df2['date']"
   ]
  },
  {
   "cell_type": "code",
   "execution_count": null,
   "id": "7abef090",
   "metadata": {},
   "outputs": [],
   "source": [
    "df3 = pd.read_csv('Data/fake_or_real_news.csv')\n",
    "del df3['Unnamed: 0']\n",
    "df3['label'] = df3['label'].replace(['FAKE', 'REAL'], ['Fake', 'True'])"
   ]
  },
  {
   "cell_type": "code",
   "execution_count": null,
   "id": "9f48455e",
   "metadata": {},
   "outputs": [],
   "source": [
    "df4 = pd.read_csv('Data/fake.csv')\n",
    "df4['label'] = 'Fake'\n",
    "df4 = df4[['title', 'text', 'label']].copy()"
   ]
  },
  {
   "cell_type": "code",
   "execution_count": null,
   "id": "81c3a7a0",
   "metadata": {},
   "outputs": [],
   "source": [
    "frames = [df1, df2, df3, df4]\n",
    "data = pd.concat(frames)\n",
    "data.sample(20)"
   ]
  },
  {
   "cell_type": "markdown",
   "id": "c8ddd00d",
   "metadata": {},
   "source": [
    "### Modified data quality report\n",
    "Helps determine what further cleaning needs to be done"
   ]
  },
  {
   "cell_type": "code",
   "execution_count": null,
   "id": "90390c6c",
   "metadata": {},
   "outputs": [],
   "source": [
    "# Constructing a data quality report for the data\n",
    "cat_data = {'Feature': ['title', 'text', 'label'],\n",
    "            'Count': data.count(),\n",
    "            '% Missing': data.isnull().sum() * 100 / len(data),\n",
    "            'Cardinality': data.apply(pd.Series.nunique),\n",
    "            'Mode': [data.mode()['title'][0], 'null', data.mode()['label'][0]],\n",
    "            'Mode Freq.': ['14', '769', '39644'],\n",
    "            'Mode %': [14 / 63552 * 100, 769 / 64186 * 100 , 39644 / 64232 * 100],\n",
    "    \n",
    "            'Notes': ['', '', '']}\n",
    "cat_dqr_df = pd.DataFrame(cat_data)\n",
    "cat_dqr_df.reset_index(drop=True, inplace=True)\n",
    "cat_dqr_df"
   ]
  },
  {
   "cell_type": "code",
   "execution_count": null,
   "id": "6c7f5350",
   "metadata": {},
   "outputs": [],
   "source": [
    "data.drop_duplicates(inplace = True)\n",
    "\n",
    "dfTrue = data[data['label'] == 'True']\n",
    "dfFake = data[data['label'] == 'Fake']\n",
    "\n",
    "dfFake.info()\n",
    "dfTrue.info()"
   ]
  },
  {
   "cell_type": "code",
   "execution_count": null,
   "id": "649d9180",
   "metadata": {},
   "outputs": [],
   "source": [
    "p = 0.2  # Keep 20% of the data.\n",
    "dfTrue = dfTrue.head(int(p * dfTrue.shape[0]))\n",
    "dfFake = dfFake.head(int(p * dfFake.shape[0]))"
   ]
  },
  {
   "cell_type": "markdown",
   "id": "9ace9418",
   "metadata": {},
   "source": [
    "### Data Cleaning\n",
    "Removing stopwords, punctuation, and whitespace characters"
   ]
  },
  {
   "cell_type": "code",
   "execution_count": null,
   "id": "2407b4a4",
   "metadata": {},
   "outputs": [],
   "source": [
    "def clean_string(input):\n",
    "    stops = set(stopwords.words(\"english\"))  # Set of stopwords\n",
    "\n",
    "    input_tokenized = word_tokenize(input)   # Tokenize input\n",
    "    input_without_sw = [word for word in input_tokenized if not word in stops]  # Remove stopwords\n",
    "    input = (\" \").join(input_without_sw)  # Combine back into sentence\n",
    "\n",
    "    input = input.lower()\n",
    "    input = re.sub('\\n|\\r|\\t', '', input)   # Remove whitespace chars\n",
    "    input = re.sub(r'[^\\w\\s]+', '', input)  # Remove punctuation\n",
    "    \n",
    "    \n",
    "    return input\n",
    "\n",
    "def preprocess(df):\n",
    "    df.dropna(axis=0, inplace = True)  # Remove rows with missing values\n",
    "    cleanfunc = np.vectorize(clean_string)    # Use vectorization to increase speed\n",
    "    df['title'] = cleanfunc(df['title'])\n",
    "    df['text'] = cleanfunc(df['text'])\n",
    "    return df"
   ]
  },
  {
   "cell_type": "code",
   "execution_count": null,
   "id": "268039a2",
   "metadata": {},
   "outputs": [],
   "source": [
    "dfTrue = preprocess(dfTrue)\n",
    "dfFake = preprocess(dfFake)"
   ]
  },
  {
   "cell_type": "markdown",
   "id": "8f62cbfc",
   "metadata": {},
   "source": [
    "### Feature Extraction & Visualization\n",
    "a) Character count in Title and Text"
   ]
  },
  {
   "cell_type": "code",
   "execution_count": 26,
   "id": "8974a94a",
   "metadata": {},
   "outputs": [],
   "source": [
    "def getCharCount(df, field):\n",
    "  return [len(text) for text in df[field].to_list()]\n",
    "\n",
    "\n",
    "def histogram_char_count(df, count, field, label):\n",
    "  plt.hist(count)\n",
    "  plt.xlabel(\"Characters\")\n",
    "  plt.ylabel(\"News\")\n",
    "  plt.title(f'Character Count Distribution of {field} in {label} News')\n",
    "  plt.show()\n",
    "  \n",
    "def plot_avg_char_count(dfTrue, dfFake, field, countTrue, countFake):\n",
    "  avg_count_true = int(np.average(countTrue))\n",
    "  avg_count_fake = int(np.mean(countFake))\n",
    "\n",
    "  df = pd.DataFrame([['True', int(avg_count_true)], ['Fake', int(avg_count_fake)]], columns=['News', 'Characters'])\n",
    "  df.plot(x='News', y='Characters', kind='bar', width=0.3, xlabel='Type of News', legend=False,\n",
    "                    ylabel='Characters', title=f'Average char count of {field} field in each type of news')  \n",
    "  plt.xticks(rotation=0)\n",
    "  plt.show()\n",
    "  \n",
    "\n",
    "def char_stats(dfTrue, dfFake, field):\n",
    "  print(f\"Character Count Distribution of {field}\")\n",
    "  true_char_count= getCharCount(dfTrue, field)\n",
    "  histogram_char_count(dfTrue, true_char_count, field, \"True\")\n",
    "\n",
    "  fake_char_count = getCharCount(dfFake, field)\n",
    "  histogram_char_count(dfFake, fake_char_count, field, \"Fake\") \n",
    "\n",
    "  print(f\"Average Count of {field}\")\n",
    "  plot_avg_char_count(dfTrue, dfFake, field, true_char_count, fake_char_count)"
   ]
  },
  {
   "cell_type": "code",
   "execution_count": null,
   "id": "0d5550e4",
   "metadata": {},
   "outputs": [],
   "source": [
    "char_stats(dfTrue, dfFake, 'title')\n",
    "char_stats(dfTrue, dfFake, 'text')"
   ]
  },
  {
   "cell_type": "code",
   "execution_count": 30,
   "id": "6a458327",
   "metadata": {},
   "outputs": [
    {
     "name": "stdout",
     "output_type": "stream",
     "text": [
      "Word Count Distribution of title\n"
     ]
    },
    {
     "data": {
      "image/png": "[encoded data removed]",
      "text/plain": [
       "<Figure size 432x288 with 1 Axes>"
      ]
     },
     "metadata": {
      "needs_background": "light"
     },
     "output_type": "display_data"
    },
    {
     "data": {
      "image/png": "[encoded data removed]",
      "text/plain": [
       "<Figure size 432x288 with 1 Axes>"
      ]
     },
     "metadata": {
      "needs_background": "light"
     },
     "output_type": "display_data"
    },
    {
     "name": "stdout",
     "output_type": "stream",
     "text": [
      "Average count of title\n"
     ]
    },
    {
     "data": {
      "image/png": "[encoded data removed]",
      "text/plain": [
       "<Figure size 432x288 with 1 Axes>"
      ]
     },
     "metadata": {
      "needs_background": "light"
     },
     "output_type": "display_data"
    }
   ],
   "source": [
    "vectorizer = CountVectorizer()\n",
    "\n",
    "def getWordCount(df, field):\n",
    "  counts = []\n",
    "  for text in df[field].to_list():\n",
    "    text_count = np.sum(vectorizer.fit_transform([text]).toarray())\n",
    "    counts.append(text_count)\n",
    "  return counts\n",
    "\n",
    "def histogram_word_count(df, count, field, label):\n",
    "  plt.hist(count)\n",
    "  plt.xlabel(\"Words\")\n",
    "  plt.ylabel(\"News\")\n",
    "  plt.title(f'Word Count Distribution of {field} in {label} News')\n",
    "  plt.show()\n",
    "  \n",
    "def plot_avg_word_count(dfTrue, dfFake, field, countTrue, countFake):\n",
    "  avg_count_true = int(np.average(countTrue))\n",
    "  avg_count_fake = int(np.mean(countFake))\n",
    "\n",
    "  df = pd.DataFrame([['True', int(avg_count_true)], ['Fake', int(avg_count_fake)]], columns=['News', 'Words'])\n",
    "  df.plot(x='News', y='Words', kind='bar', width=0.3, xlabel='Type of News', legend=False,\n",
    "                    ylabel='Words', title=f'Average Word Count of {field} field in each type of news')  \n",
    "  plt.xticks(rotation=0)\n",
    "  plt.show()\n",
    "  \n",
    "\n",
    "def word_stats(dfTrue, dfFake, field):\n",
    "  print(f\"Word Count Distribution of {field}\")\n",
    "  true_word_count= getWordCount(dfTrue, field)\n",
    "  histogram_word_count(dfTrue, true_word_count, field, \"True\")\n",
    "\n",
    "  fake_word_count = getWordCount(dfFake, field)\n",
    "  histogram_word_count(dfFake, fake_word_count, field, \"Fake\") \n",
    "\n",
    "  print(f\"Average count of {field}\")\n",
    "  plot_avg_word_count(dfTrue, dfFake, field, true_word_count, fake_word_count)\n",
    "\n",
    "word_stats(dfTrue, dfFake, 'title')"
   ]
  }
 ],
 "metadata": {
  "kernelspec": {
   "display_name": "Python 3 (ipykernel)",
   "language": "python",
   "name": "python3"
  },
  "language_info": {
   "codemirror_mode": {
    "name": "ipython",
    "version": 3
   },
   "file_extension": ".py",
   "mimetype": "text/x-python",
   "name": "python",
   "nbconvert_exporter": "python",
   "pygments_lexer": "ipython3",
   "version": "3.9.2"
  }
 },
 "nbformat": 4,
 "nbformat_minor": 5
}
