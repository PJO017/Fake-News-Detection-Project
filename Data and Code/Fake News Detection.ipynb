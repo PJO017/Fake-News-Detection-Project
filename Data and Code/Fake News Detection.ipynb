{
 "cells": [
  {
   "cell_type": "code",
   "execution_count": 9,
   "id": "54fae1a7",
   "metadata": {},
   "outputs": [
    {
     "data": {
      "text/plain": [
       "'/Users/Copeland/Public/Fake-News-Detection-Project/Data and Code'"
      ]
     },
     "execution_count": 9,
     "metadata": {},
     "output_type": "execute_result"
    }
   ],
   "source": [
    "import pandas as pd\n",
    "import numpy as np\n",
    "import os\n",
    "os.getcwd()"
   ]
  },
  {
   "cell_type": "markdown",
   "id": "7c478cd5",
   "metadata": {},
   "source": [
    "### In this section, I'm examining and cleaning up the separate .csv files so that I can combine them all into one dataframe for analysis. "
   ]
  },
  {
   "cell_type": "code",
   "execution_count": 70,
   "id": "e021c386",
   "metadata": {},
   "outputs": [],
   "source": [
    "df1 = pd.read_csv('/Users/Copeland/Public/Fake-News-Detection-Project/Data and Code/archive/Fake.csv')\n",
    "df1['label'] = 'Fake'\n",
    "del df1['subject']\n",
    "del df1['date']"
   ]
  },
  {
   "cell_type": "code",
   "execution_count": 71,
   "id": "d7a37a7e",
   "metadata": {},
   "outputs": [],
   "source": [
    "df2 = pd.read_csv('/Users/Copeland/Public/Fake-News-Detection-Project/Data and Code/archive/True.csv')\n",
    "df2['label'] = 'True'\n",
    "del df2['subject']\n",
    "del df2['date']"
   ]
  },
  {
   "cell_type": "code",
   "execution_count": 72,
   "id": "7abef090",
   "metadata": {},
   "outputs": [],
   "source": [
    "df3 = pd.read_csv('fake_or_real_news.csv')\n",
    "del df3['Unnamed: 0']\n",
    "df3['label'] = df3['label'].replace(['FAKE', 'REAL'], ['Fake', 'True'])"
   ]
  },
  {
   "cell_type": "code",
   "execution_count": 73,
   "id": "9f48455e",
   "metadata": {},
   "outputs": [],
   "source": [
    "df4 = pd.read_csv('fake.csv')\n",
    "df4['label'] = 'Fake'\n",
    "df4 = df4[['title', 'text', 'label']].copy()"
   ]
  },
  {
   "cell_type": "code",
   "execution_count": 123,
   "id": "81c3a7a0",
   "metadata": {},
   "outputs": [
    {
     "name": "stdout",
     "output_type": "stream",
     "text": [
      "<class 'pandas.core.frame.DataFrame'>\n",
      "Int64Index: 64232 entries, 0 to 12998\n",
      "Data columns (total 3 columns):\n",
      " #   Column  Non-Null Count  Dtype \n",
      "---  ------  --------------  ----- \n",
      " 0   title   63552 non-null  object\n",
      " 1   text    64186 non-null  object\n",
      " 2   label   64232 non-null  object\n",
      "dtypes: object(3)\n",
      "memory usage: 2.0+ MB\n"
     ]
    }
   ],
   "source": [
    "frames = [df1, df2, df3, df4]\n",
    "data = pd.concat(frames)\n",
    "data.info()"
   ]
  },
  {
   "cell_type": "markdown",
   "id": "c8ddd00d",
   "metadata": {},
   "source": [
    "### Here, I'm just constructing a modified data quality report to help be determine what further cleaning the new dataframe might need, if any. "
   ]
  },
  {
   "cell_type": "code",
   "execution_count": 124,
   "id": "90390c6c",
   "metadata": {},
   "outputs": [
    {
     "data": {
      "text/html": [
       "<div>\n",
       "<style scoped>\n",
       "    .dataframe tbody tr th:only-of-type {\n",
       "        vertical-align: middle;\n",
       "    }\n",
       "\n",
       "    .dataframe tbody tr th {\n",
       "        vertical-align: top;\n",
       "    }\n",
       "\n",
       "    .dataframe thead th {\n",
       "        text-align: right;\n",
       "    }\n",
       "</style>\n",
       "<table border=\"1\" class=\"dataframe\">\n",
       "  <thead>\n",
       "    <tr style=\"text-align: right;\">\n",
       "      <th></th>\n",
       "      <th>Feature</th>\n",
       "      <th>Count</th>\n",
       "      <th>% of Missing</th>\n",
       "      <th>Cardinality</th>\n",
       "      <th>Mode</th>\n",
       "      <th>Mode Freq.</th>\n",
       "      <th>Mode %</th>\n",
       "      <th>Notes</th>\n",
       "    </tr>\n",
       "  </thead>\n",
       "  <tbody>\n",
       "    <tr>\n",
       "      <th>0</th>\n",
       "      <td>titel</td>\n",
       "      <td>63552</td>\n",
       "      <td>1.058662</td>\n",
       "      <td>53541</td>\n",
       "      <td>Factbox: Trump fills top jobs for his administ...</td>\n",
       "      <td>14</td>\n",
       "      <td>0.022029</td>\n",
       "      <td></td>\n",
       "    </tr>\n",
       "    <tr>\n",
       "      <th>1</th>\n",
       "      <td>text</td>\n",
       "      <td>64186</td>\n",
       "      <td>0.071615</td>\n",
       "      <td>54064</td>\n",
       "      <td>null</td>\n",
       "      <td>769</td>\n",
       "      <td>1.198081</td>\n",
       "      <td></td>\n",
       "    </tr>\n",
       "    <tr>\n",
       "      <th>2</th>\n",
       "      <td>label</td>\n",
       "      <td>64232</td>\n",
       "      <td>0.000000</td>\n",
       "      <td>2</td>\n",
       "      <td>Fake</td>\n",
       "      <td>39644</td>\n",
       "      <td>61.720015</td>\n",
       "      <td></td>\n",
       "    </tr>\n",
       "  </tbody>\n",
       "</table>\n",
       "</div>"
      ],
      "text/plain": [
       "  Feature  Count  % of Missing  Cardinality  \\\n",
       "0   titel  63552      1.058662        53541   \n",
       "1    text  64186      0.071615        54064   \n",
       "2   label  64232      0.000000            2   \n",
       "\n",
       "                                                Mode Mode Freq.     Mode %  \\\n",
       "0  Factbox: Trump fills top jobs for his administ...         14   0.022029   \n",
       "1                                               null        769   1.198081   \n",
       "2                                               Fake      39644  61.720015   \n",
       "\n",
       "  Notes  \n",
       "0        \n",
       "1        \n",
       "2        "
      ]
     },
     "execution_count": 124,
     "metadata": {},
     "output_type": "execute_result"
    }
   ],
   "source": [
    "# Constructing a data quality report for the data\n",
    "cat_data = {'Feature': ['titel', 'text', 'label'],\n",
    "            'Count': data.count(),\n",
    "            '% of Missing': data.isnull().sum() * 100 / len(data),\n",
    "            'Cardinality': data.apply(pd.Series.nunique),\n",
    "            'Mode': [data.mode()['title'][0], 'null', data.mode()['label'][0]],\n",
    "            'Mode Freq.': ['14', '769', '39644'],\n",
    "            'Mode %': [14 / 63552 * 100, 769 / 64186 * 100 , 39644 / 64232 * 100],\n",
    "    \n",
    "            'Notes': ['', '', '']}\n",
    "cat_dqr_df = pd.DataFrame(cat_data)\n",
    "cat_dqr_df.reset_index(drop=True, inplace=True)\n",
    "cat_dqr_df"
   ]
  },
  {
   "cell_type": "code",
   "execution_count": 132,
   "id": "6c7f5350",
   "metadata": {},
   "outputs": [
    {
     "name": "stdout",
     "output_type": "stream",
     "text": [
      "<class 'pandas.core.frame.DataFrame'>\n",
      "Int64Index: 55103 entries, 0 to 12998\n",
      "Data columns (total 3 columns):\n",
      " #   Column  Non-Null Count  Dtype \n",
      "---  ------  --------------  ----- \n",
      " 0   title   54473 non-null  object\n",
      " 1   text    55057 non-null  object\n",
      " 2   label   55103 non-null  object\n",
      "dtypes: object(3)\n",
      "memory usage: 1.7+ MB\n"
     ]
    }
   ],
   "source": [
    "data.drop_duplicates(inplace = True)\n",
    "data.info()"
   ]
  },
  {
   "cell_type": "code",
   "execution_count": null,
   "id": "f7e170bc",
   "metadata": {},
   "outputs": [],
   "source": []
  }
 ],
 "metadata": {
  "kernelspec": {
   "display_name": "Python 3 (ipykernel)",
   "language": "python",
   "name": "python3"
  },
  "language_info": {
   "codemirror_mode": {
    "name": "ipython",
    "version": 3
   },
   "file_extension": ".py",
   "mimetype": "text/x-python",
   "name": "python",
   "nbconvert_exporter": "python",
   "pygments_lexer": "ipython3",
   "version": "3.8.12"
  }
 },
 "nbformat": 4,
 "nbformat_minor": 5
}
