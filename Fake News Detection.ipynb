{
 "cells": [
  {
   "cell_type": "code",
   "execution_count": 1,
   "id": "54fae1a7",
   "metadata": {},
   "outputs": [
    {
     "name": "stderr",
     "output_type": "stream",
     "text": [
      "[nltk_data] Downloading package stopwords to /home/pj/nltk_data...\n",
      "[nltk_data]   Package stopwords is already up-to-date!\n",
      "[nltk_data] Downloading package punkt to /home/pj/nltk_data...\n",
      "[nltk_data]   Package punkt is already up-to-date!\n"
     ]
    },
    {
     "data": {
      "text/plain": [
       "True"
      ]
     },
     "execution_count": 1,
     "metadata": {},
     "output_type": "execute_result"
    }
   ],
   "source": [
    "import pandas as pd\n",
    "import numpy as np\n",
    "import re\n",
    "\n",
    "import matplotlib.pyplot as plt\n",
    "\n",
    "import nltk\n",
    "from nltk.corpus import stopwords\n",
    "from nltk.tokenize import word_tokenize\n",
    "\n",
    "nltk.download('stopwords')\n",
    "nltk.download('punkt')"
   ]
  },
  {
   "cell_type": "markdown",
   "id": "7c478cd5",
   "metadata": {},
   "source": [
    "### Data Preprocessing\n",
    "Integrating datasets into two data frames, True and False"
   ]
  },
  {
   "cell_type": "code",
   "execution_count": 2,
   "id": "e021c386",
   "metadata": {},
   "outputs": [],
   "source": [
    "df1 = pd.read_csv('Data/archive/Fake.csv')\n",
    "df1['label'] = 'Fake'\n",
    "del df1['subject']\n",
    "del df1['date']"
   ]
  },
  {
   "cell_type": "code",
   "execution_count": 3,
   "id": "d7a37a7e",
   "metadata": {},
   "outputs": [],
   "source": [
    "df2 = pd.read_csv('Data/archive/True.csv')\n",
    "df2['label'] = 'True'\n",
    "del df2['subject']\n",
    "del df2['date']"
   ]
  },
  {
   "cell_type": "code",
   "execution_count": 4,
   "id": "7abef090",
   "metadata": {},
   "outputs": [],
   "source": [
    "df3 = pd.read_csv('Data/fake_or_real_news.csv')\n",
    "del df3['Unnamed: 0']\n",
    "df3['label'] = df3['label'].replace(['FAKE', 'REAL'], ['Fake', 'True'])"
   ]
  },
  {
   "cell_type": "code",
   "execution_count": 5,
   "id": "9f48455e",
   "metadata": {},
   "outputs": [],
   "source": [
    "df4 = pd.read_csv('Data/fake.csv')\n",
    "df4['label'] = 'Fake'\n",
    "df4 = df4[['title', 'text', 'label']].copy()"
   ]
  },
  {
   "cell_type": "code",
   "execution_count": 6,
   "id": "81c3a7a0",
   "metadata": {},
   "outputs": [
    {
     "data": {
      "text/html": [
       "<div>\n",
       "<style scoped>\n",
       "    .dataframe tbody tr th:only-of-type {\n",
       "        vertical-align: middle;\n",
       "    }\n",
       "\n",
       "    .dataframe tbody tr th {\n",
       "        vertical-align: top;\n",
       "    }\n",
       "\n",
       "    .dataframe thead th {\n",
       "        text-align: right;\n",
       "    }\n",
       "</style>\n",
       "<table border=\"1\" class=\"dataframe\">\n",
       "  <thead>\n",
       "    <tr style=\"text-align: right;\">\n",
       "      <th></th>\n",
       "      <th>title</th>\n",
       "      <th>text</th>\n",
       "      <th>label</th>\n",
       "    </tr>\n",
       "  </thead>\n",
       "  <tbody>\n",
       "    <tr>\n",
       "      <th>21404</th>\n",
       "      <td>EXPOSED POPULATION CONTROL CAMPAIGN: Influenti...</td>\n",
       "      <td>The same guy who donated tens of millions of d...</td>\n",
       "      <td>Fake</td>\n",
       "    </tr>\n",
       "    <tr>\n",
       "      <th>19600</th>\n",
       "      <td>Kenya court: opposition didn't show presidenti...</td>\n",
       "      <td>NAIROBI (Reuters) - Kenya s chief justice said...</td>\n",
       "      <td>True</td>\n",
       "    </tr>\n",
       "    <tr>\n",
       "      <th>9106</th>\n",
       "      <td>Factbox: Eyes on U.S. terrorism watchlists aft...</td>\n",
       "      <td>(Reuters) - As facts emerge about Omar Mateen,...</td>\n",
       "      <td>True</td>\n",
       "    </tr>\n",
       "    <tr>\n",
       "      <th>16435</th>\n",
       "      <td>OBAMA STONEWALLING ON Why He Sent 13 Payments ...</td>\n",
       "      <td>Leave it to the one and only Andrew McCarthy t...</td>\n",
       "      <td>Fake</td>\n",
       "    </tr>\n",
       "    <tr>\n",
       "      <th>4887</th>\n",
       "      <td>Tillerson's use of email alias at Exxon 'entir...</td>\n",
       "      <td>(Reuters) - U.S. Secretary of State Rex Tiller...</td>\n",
       "      <td>True</td>\n",
       "    </tr>\n",
       "    <tr>\n",
       "      <th>15400</th>\n",
       "      <td>Kremlin warns of mutual damage if Ukraine cuts...</td>\n",
       "      <td>MOSCOW (Reuters) - The Kremlin said on Wednesd...</td>\n",
       "      <td>True</td>\n",
       "    </tr>\n",
       "    <tr>\n",
       "      <th>6280</th>\n",
       "      <td>Bette Midler Takes Hilariously Vulgar Shot At...</td>\n",
       "      <td>Superstar Bette Midler has been having a high ...</td>\n",
       "      <td>Fake</td>\n",
       "    </tr>\n",
       "    <tr>\n",
       "      <th>10718</th>\n",
       "      <td>Rubio gets boost from Republican endorsements,...</td>\n",
       "      <td>WASHINGTON (Reuters) - Republican presidential...</td>\n",
       "      <td>True</td>\n",
       "    </tr>\n",
       "    <tr>\n",
       "      <th>11710</th>\n",
       "      <td>A Reader Is Inspired To Grassroots Activism By...</td>\n",
       "      <td>X Dear Reader! VDARE.com isn’t just a website....</td>\n",
       "      <td>Fake</td>\n",
       "    </tr>\n",
       "    <tr>\n",
       "      <th>4668</th>\n",
       "      <td>Jerusalem in Photos from 1862: No mosques, no ...</td>\n",
       "      <td>Jerusalem in Photos from 1862: No mosques, no ...</td>\n",
       "      <td>Fake</td>\n",
       "    </tr>\n",
       "    <tr>\n",
       "      <th>9736</th>\n",
       "      <td>MUSLIM REFUGEES BUSTED Going Back to the Count...</td>\n",
       "      <td>The scene below is from the movie KILLING EURO...</td>\n",
       "      <td>Fake</td>\n",
       "    </tr>\n",
       "    <tr>\n",
       "      <th>3421</th>\n",
       "      <td>Foreign Governments Have Been Giving Election...</td>\n",
       "      <td>During the revelations that Russia had a giant...</td>\n",
       "      <td>Fake</td>\n",
       "    </tr>\n",
       "    <tr>\n",
       "      <th>3049</th>\n",
       "      <td>Senators demand investigation of reports of to...</td>\n",
       "      <td>WASHINGTON (Reuters) - The leaders of the U.S....</td>\n",
       "      <td>True</td>\n",
       "    </tr>\n",
       "    <tr>\n",
       "      <th>22370</th>\n",
       "      <td>REALIST PERSPECTIVE: President Trump, How &amp; Why…</td>\n",
       "      <td>21st Century Wire says Yes, it s true that a s...</td>\n",
       "      <td>Fake</td>\n",
       "    </tr>\n",
       "    <tr>\n",
       "      <th>15118</th>\n",
       "      <td>GOODBYE HILLARY? Here Comes Dumb And Dumber</td>\n",
       "      <td>Can you believe it? The clown that can t keep ...</td>\n",
       "      <td>Fake</td>\n",
       "    </tr>\n",
       "    <tr>\n",
       "      <th>8044</th>\n",
       "      <td>Clinton leads Trump by 4 points ahead of first...</td>\n",
       "      <td>NEW YORK (Reuters) - Democrat Hillary Clinton ...</td>\n",
       "      <td>True</td>\n",
       "    </tr>\n",
       "    <tr>\n",
       "      <th>2923</th>\n",
       "      <td>Donald Trump Even Stole The Cake Design From ...</td>\n",
       "      <td>At this point, it s fair to ask,  What is Dona...</td>\n",
       "      <td>Fake</td>\n",
       "    </tr>\n",
       "    <tr>\n",
       "      <th>2792</th>\n",
       "      <td>Major Democratic Donor: African-Americans are ...</td>\n",
       "      <td>The best kept secret of politics today is that...</td>\n",
       "      <td>Fake</td>\n",
       "    </tr>\n",
       "    <tr>\n",
       "      <th>2315</th>\n",
       "      <td>Kevin MacDonald celebrates Trump’s Amazing Vic...</td>\n",
       "      <td>“WE ARE THE FUTURE.” — Kevin MacDonald \\nThis ...</td>\n",
       "      <td>Fake</td>\n",
       "    </tr>\n",
       "    <tr>\n",
       "      <th>422</th>\n",
       "      <td>Facebook Just Confirmed Russia Spent At Least...</td>\n",
       "      <td>Earlier today, Facebook representatives told C...</td>\n",
       "      <td>Fake</td>\n",
       "    </tr>\n",
       "  </tbody>\n",
       "</table>\n",
       "</div>"
      ],
      "text/plain": [
       "                                                   title  \\\n",
       "21404  EXPOSED POPULATION CONTROL CAMPAIGN: Influenti...   \n",
       "19600  Kenya court: opposition didn't show presidenti...   \n",
       "9106   Factbox: Eyes on U.S. terrorism watchlists aft...   \n",
       "16435  OBAMA STONEWALLING ON Why He Sent 13 Payments ...   \n",
       "4887   Tillerson's use of email alias at Exxon 'entir...   \n",
       "15400  Kremlin warns of mutual damage if Ukraine cuts...   \n",
       "6280    Bette Midler Takes Hilariously Vulgar Shot At...   \n",
       "10718  Rubio gets boost from Republican endorsements,...   \n",
       "11710  A Reader Is Inspired To Grassroots Activism By...   \n",
       "4668   Jerusalem in Photos from 1862: No mosques, no ...   \n",
       "9736   MUSLIM REFUGEES BUSTED Going Back to the Count...   \n",
       "3421    Foreign Governments Have Been Giving Election...   \n",
       "3049   Senators demand investigation of reports of to...   \n",
       "22370   REALIST PERSPECTIVE: President Trump, How & Why…   \n",
       "15118        GOODBYE HILLARY? Here Comes Dumb And Dumber   \n",
       "8044   Clinton leads Trump by 4 points ahead of first...   \n",
       "2923    Donald Trump Even Stole The Cake Design From ...   \n",
       "2792   Major Democratic Donor: African-Americans are ...   \n",
       "2315   Kevin MacDonald celebrates Trump’s Amazing Vic...   \n",
       "422     Facebook Just Confirmed Russia Spent At Least...   \n",
       "\n",
       "                                                    text label  \n",
       "21404  The same guy who donated tens of millions of d...  Fake  \n",
       "19600  NAIROBI (Reuters) - Kenya s chief justice said...  True  \n",
       "9106   (Reuters) - As facts emerge about Omar Mateen,...  True  \n",
       "16435  Leave it to the one and only Andrew McCarthy t...  Fake  \n",
       "4887   (Reuters) - U.S. Secretary of State Rex Tiller...  True  \n",
       "15400  MOSCOW (Reuters) - The Kremlin said on Wednesd...  True  \n",
       "6280   Superstar Bette Midler has been having a high ...  Fake  \n",
       "10718  WASHINGTON (Reuters) - Republican presidential...  True  \n",
       "11710  X Dear Reader! VDARE.com isn’t just a website....  Fake  \n",
       "4668   Jerusalem in Photos from 1862: No mosques, no ...  Fake  \n",
       "9736   The scene below is from the movie KILLING EURO...  Fake  \n",
       "3421   During the revelations that Russia had a giant...  Fake  \n",
       "3049   WASHINGTON (Reuters) - The leaders of the U.S....  True  \n",
       "22370  21st Century Wire says Yes, it s true that a s...  Fake  \n",
       "15118  Can you believe it? The clown that can t keep ...  Fake  \n",
       "8044   NEW YORK (Reuters) - Democrat Hillary Clinton ...  True  \n",
       "2923   At this point, it s fair to ask,  What is Dona...  Fake  \n",
       "2792   The best kept secret of politics today is that...  Fake  \n",
       "2315   “WE ARE THE FUTURE.” — Kevin MacDonald \\nThis ...  Fake  \n",
       "422    Earlier today, Facebook representatives told C...  Fake  "
      ]
     },
     "execution_count": 6,
     "metadata": {},
     "output_type": "execute_result"
    }
   ],
   "source": [
    "frames = [df1, df2, df3, df4]\n",
    "data = pd.concat(frames)\n",
    "data.sample(20)"
   ]
  },
  {
   "cell_type": "markdown",
   "id": "c8ddd00d",
   "metadata": {},
   "source": [
    "### Modified data quality report\n",
    "Helps determine what further cleaning needs to be done"
   ]
  },
  {
   "cell_type": "code",
   "execution_count": 7,
   "id": "90390c6c",
   "metadata": {},
   "outputs": [
    {
     "data": {
      "text/html": [
       "<div>\n",
       "<style scoped>\n",
       "    .dataframe tbody tr th:only-of-type {\n",
       "        vertical-align: middle;\n",
       "    }\n",
       "\n",
       "    .dataframe tbody tr th {\n",
       "        vertical-align: top;\n",
       "    }\n",
       "\n",
       "    .dataframe thead th {\n",
       "        text-align: right;\n",
       "    }\n",
       "</style>\n",
       "<table border=\"1\" class=\"dataframe\">\n",
       "  <thead>\n",
       "    <tr style=\"text-align: right;\">\n",
       "      <th></th>\n",
       "      <th>Feature</th>\n",
       "      <th>Count</th>\n",
       "      <th>% Missing</th>\n",
       "      <th>Cardinality</th>\n",
       "      <th>Mode</th>\n",
       "      <th>Mode Freq.</th>\n",
       "      <th>Mode %</th>\n",
       "      <th>Notes</th>\n",
       "    </tr>\n",
       "  </thead>\n",
       "  <tbody>\n",
       "    <tr>\n",
       "      <th>0</th>\n",
       "      <td>title</td>\n",
       "      <td>63552</td>\n",
       "      <td>1.058662</td>\n",
       "      <td>53541</td>\n",
       "      <td>Factbox: Trump fills top jobs for his administ...</td>\n",
       "      <td>14</td>\n",
       "      <td>0.022029</td>\n",
       "      <td></td>\n",
       "    </tr>\n",
       "    <tr>\n",
       "      <th>1</th>\n",
       "      <td>text</td>\n",
       "      <td>64186</td>\n",
       "      <td>0.071615</td>\n",
       "      <td>54064</td>\n",
       "      <td>null</td>\n",
       "      <td>769</td>\n",
       "      <td>1.198081</td>\n",
       "      <td></td>\n",
       "    </tr>\n",
       "    <tr>\n",
       "      <th>2</th>\n",
       "      <td>label</td>\n",
       "      <td>64232</td>\n",
       "      <td>0.000000</td>\n",
       "      <td>2</td>\n",
       "      <td>Fake</td>\n",
       "      <td>39644</td>\n",
       "      <td>61.720015</td>\n",
       "      <td></td>\n",
       "    </tr>\n",
       "  </tbody>\n",
       "</table>\n",
       "</div>"
      ],
      "text/plain": [
       "  Feature  Count  % Missing  Cardinality  \\\n",
       "0   title  63552   1.058662        53541   \n",
       "1    text  64186   0.071615        54064   \n",
       "2   label  64232   0.000000            2   \n",
       "\n",
       "                                                Mode Mode Freq.     Mode %  \\\n",
       "0  Factbox: Trump fills top jobs for his administ...         14   0.022029   \n",
       "1                                               null        769   1.198081   \n",
       "2                                               Fake      39644  61.720015   \n",
       "\n",
       "  Notes  \n",
       "0        \n",
       "1        \n",
       "2        "
      ]
     },
     "execution_count": 7,
     "metadata": {},
     "output_type": "execute_result"
    }
   ],
   "source": [
    "# Constructing a data quality report for the data\n",
    "cat_data = {'Feature': ['title', 'text', 'label'],\n",
    "            'Count': data.count(),\n",
    "            '% Missing': data.isnull().sum() * 100 / len(data),\n",
    "            'Cardinality': data.apply(pd.Series.nunique),\n",
    "            'Mode': [data.mode()['title'][0], 'null', data.mode()['label'][0]],\n",
    "            'Mode Freq.': ['14', '769', '39644'],\n",
    "            'Mode %': [14 / 63552 * 100, 769 / 64186 * 100 , 39644 / 64232 * 100],\n",
    "    \n",
    "            'Notes': ['', '', '']}\n",
    "cat_dqr_df = pd.DataFrame(cat_data)\n",
    "cat_dqr_df.reset_index(drop=True, inplace=True)\n",
    "cat_dqr_df"
   ]
  },
  {
   "cell_type": "code",
   "execution_count": 8,
   "id": "6c7f5350",
   "metadata": {},
   "outputs": [
    {
     "name": "stdout",
     "output_type": "stream",
     "text": [
      "<class 'pandas.core.frame.DataFrame'>\n",
      "Int64Index: 30752 entries, 0 to 12998\n",
      "Data columns (total 3 columns):\n",
      " #   Column  Non-Null Count  Dtype \n",
      "---  ------  --------------  ----- \n",
      " 0   title   30122 non-null  object\n",
      " 1   text    30706 non-null  object\n",
      " 2   label   30752 non-null  object\n",
      "dtypes: object(3)\n",
      "memory usage: 961.0+ KB\n",
      "<class 'pandas.core.frame.DataFrame'>\n",
      "Int64Index: 24351 entries, 0 to 6334\n",
      "Data columns (total 3 columns):\n",
      " #   Column  Non-Null Count  Dtype \n",
      "---  ------  --------------  ----- \n",
      " 0   title   24351 non-null  object\n",
      " 1   text    24351 non-null  object\n",
      " 2   label   24351 non-null  object\n",
      "dtypes: object(3)\n",
      "memory usage: 761.0+ KB\n"
     ]
    }
   ],
   "source": [
    "data.drop_duplicates(inplace = True)\n",
    "\n",
    "dfTrue = data[data['label'] == 'True']\n",
    "dfFake = data[data['label'] == 'Fake']\n",
    "\n",
    "dfFake.info()\n",
    "dfTrue.info()"
   ]
  },
  {
   "cell_type": "code",
   "execution_count": 9,
   "id": "649d9180",
   "metadata": {},
   "outputs": [],
   "source": [
    "p = 0.2  # Keep 20% of the data.\n",
    "dfTrue = dfTrue.head(int(p * dfTrue.shape[0]))\n",
    "dfFake = dfFake.head(int(p * dfFake.shape[0]))"
   ]
  },
  {
   "cell_type": "markdown",
   "id": "9ace9418",
   "metadata": {},
   "source": [
    "### Data Cleaning\n",
    "Removing stopwords, punctuation, and whitespace characters"
   ]
  },
  {
   "cell_type": "code",
   "execution_count": 10,
   "id": "2407b4a4",
   "metadata": {},
   "outputs": [],
   "source": [
    "def clean_string(input):\n",
    "    stops = set(stopwords.words(\"english\"))  # Set of stopwords\n",
    "\n",
    "    input_tokenized = word_tokenize(input)   # Tokenize input\n",
    "    input_without_sw = [word for word in input_tokenized if not word in stops]  # Remove stopwords\n",
    "    input = (\" \").join(input_without_sw)  # Combine back into sentence\n",
    "\n",
    "    input = input.lower()\n",
    "    input = re.sub('\\n|\\r|\\t', '', input)   # Remove whitespace chars\n",
    "    input = re.sub(r'[^\\w\\s]+', '', input)  # Remove punctuation\n",
    "    \n",
    "    \n",
    "    return input\n",
    "\n",
    "def preprocess(df):\n",
    "    df.dropna(axis=0, inplace = True)  # Remove rows with missing values\n",
    "    cleanfunc = np.vectorize(clean_string)    # Use vectorization to increase speed\n",
    "    df['title'] = cleanfunc(df['title'])\n",
    "    df['text'] = cleanfunc(df['text'])\n",
    "    return df"
   ]
  },
  {
   "cell_type": "code",
   "execution_count": 11,
   "id": "268039a2",
   "metadata": {},
   "outputs": [
    {
     "name": "stdout",
     "output_type": "stream",
     "text": [
      "                                                  title  \\\n",
      "0     as us budget fight looms  republicans flip fis...   \n",
      "1     us military accept transgender recruits monday...   \n",
      "2     senior us republican senator  let mr mueller job    \n",
      "3     fbi russia probe helped australian diplomat ti...   \n",
      "4     trump wants postal service charge much  amazon...   \n",
      "...                                                 ...   \n",
      "4900  agriculture leaders slam trump s usda budget c...   \n",
      "4901  boeing  lockheed martin winners trump s 2017 s...   \n",
      "4902  senators press trump details icahn s special a...   \n",
      "4903  oklahoma lawmaker  found boy motel  charged pr...   \n",
      "4904      treasury s mnuchin says trump want trade wars   \n",
      "\n",
      "                                                   text label  \n",
      "0     washington  reuters   the head conservative re...  True  \n",
      "1     washington  reuters   transgender people allow...  True  \n",
      "2     washington  reuters   the special counsel inve...  True  \n",
      "3     washington  reuters   trump campaign adviser g...  True  \n",
      "4     seattlewashington  reuters   president donald ...  True  \n",
      "...                                                 ...   ...  \n",
      "4900  chicago  reuters   agriculture leaders includi...  True  \n",
      "4901  washington  reuters   nearly half president do...  True  \n",
      "4902   reuters   six us senate democrats thursday st...  True  \n",
      "4903   reuters   an oklahoma republican state senato...  True  \n",
      "4904  berlin  reuters   us treasury secretary steven...  True  \n",
      "\n",
      "[4870 rows x 3 columns]\n",
      "                                                  title  \\\n",
      "0     donald trump sends out embarrassing new year  ...   \n",
      "1     drunk bragging trump staffer started russian c...   \n",
      "2     sheriff david clarke becomes an internet joke ...   \n",
      "3     trump is so obsessed he even has obama  name c...   \n",
      "4     pope francis just called out donald trump duri...   \n",
      "...                                                 ...   \n",
      "6145  cops slam guncrazy gop candidate who said they...   \n",
      "6146  trump  campaign is a complete mess and this is...   \n",
      "6147  senate dems to introduce constitutional amendm...   \n",
      "6148  this touching moment potus shared with a hiros...   \n",
      "6149  va middle school student accused of stealing  ...   \n",
      "\n",
      "                                                   text label  \n",
      "0     donald trump wish americans happy new year lea...  Fake  \n",
      "1     house intelligence committee chairman devin nu...  Fake  \n",
      "2     on friday  revealed former milwaukee sheriff d...  Fake  \n",
      "3     on christmas day  donald trump announced would...  Fake  \n",
      "4     pope francis used annual christmas day message...  Fake  \n",
      "...                                                 ...   ...  \n",
      "6145  a republican candidate us house seat fire poli...  Fake  \n",
      "6146  despite donald trump bravado far many mainstre...  Fake  \n",
      "6147  as presidential race heats coffers start pour ...  Fake  \n",
      "6148  president obama trip hiroshima would come go w...  Fake  \n",
      "6149  a graham park middle school student arrested f...  Fake  \n",
      "\n",
      "[6150 rows x 3 columns]\n"
     ]
    }
   ],
   "source": [
    "dfTrue = preprocess(dfTrue)\n",
    "dfFake = preprocess(dfFake)"
   ]
  },
  {
   "cell_type": "markdown",
   "id": "8f62cbfc",
   "metadata": {},
   "source": [
    "### Feature Extraction & Visualization\n",
    "a) Character count in Title and Text"
   ]
  },
  {
   "cell_type": "code",
   "execution_count": 55,
   "id": "8974a94a",
   "metadata": {},
   "outputs": [],
   "source": [
    "def getCharCount(df, field):\n",
    "  return [len(text) for text in df[field].to_list()]\n",
    "\n",
    "def histogram_char_count(df, count, field, label):\n",
    "  plt.hist(count)\n",
    "  plt.xlabel(\"Characters\")\n",
    "  plt.ylabel(\"News\")\n",
    "  plt.title(f'Character Distribution of {field} in {label} News')\n",
    "  plt.show()\n",
    "  \n",
    "def plot_avg_char_count(dfTrue, dfFake, field, countTrue, countFake):\n",
    "  avg_count_true = int(np.average(countTrue))\n",
    "  avg_count_fake = int(np.mean(countFake))\n",
    "\n",
    "  df = pd.DataFrame([['True', int(avg_count_true)], ['Fake', int(avg_count_fake)]], columns=['News', 'Characters'])\n",
    "  df.plot(x='News', y='Characters', kind='bar', width=0.3, xlabel='Type of News', legend=False,\n",
    "                    ylabel='Characters', title=f'Average char count of {field} field in each type of news')  \n",
    "  plt.xticks(rotation=0)\n",
    "  plt.show()\n",
    "  \n",
    "\n",
    "def char_stats(dfTrue, dfFake, field):\n",
    "  print(f\"Character Distribution of {field}\")\n",
    "  true_char_count= getCharCount(dfTrue, field)\n",
    "  histogram_char_count(dfTrue, true_char_count, field, \"True\")\n",
    "\n",
    "  fake_char_count = getCharCount(dfFake, field)\n",
    "  histogram_char_count(dfFake, fake_char_count, field, \"Fake\") \n",
    "\n",
    "  print(f\"Average count of {field}\")\n",
    "  plot_avg_char_count(dfTrue, dfFake, field, true_char_count, fake_char_count)"
   ]
  },
  {
   "cell_type": "code",
   "execution_count": 57,
   "id": "0d5550e4",
   "metadata": {},
   "outputs": [
    {
     "name": "stdout",
     "output_type": "stream",
     "text": [
      "Character Distribution of title\n"
     ]
    },
    {
     "data": {
      "image/png": "[encoded data removed]",
      "text/plain": [
       "<Figure size 432x288 with 1 Axes>"
      ]
     },
     "metadata": {
      "needs_background": "light"
     },
     "output_type": "display_data"
    },
    {
     "data": {
      "image/png": "[encoded data removed]",
      "text/plain": [
       "<Figure size 432x288 with 1 Axes>"
      ]
     },
     "metadata": {
      "needs_background": "light"
     },
     "output_type": "display_data"
    },
    {
     "name": "stdout",
     "output_type": "stream",
     "text": [
      "Average count of title\n"
     ]
    },
    {
     "data": {
      "image/png": "[encoded data removed]",
      "text/plain": [
       "<Figure size 432x288 with 1 Axes>"
      ]
     },
     "metadata": {
      "needs_background": "light"
     },
     "output_type": "display_data"
    },
    {
     "name": "stdout",
     "output_type": "stream",
     "text": [
      "Character Distribution of text\n"
     ]
    },
    {
     "data": {
      "image/png": "[encoded data removed]",
      "text/plain": [
       "<Figure size 432x288 with 1 Axes>"
      ]
     },
     "metadata": {
      "needs_background": "light"
     },
     "output_type": "display_data"
    },
    {
     "data": {
      "image/png": "[encoded data removed]",
      "text/plain": [
       "<Figure size 432x288 with 1 Axes>"
      ]
     },
     "metadata": {
      "needs_background": "light"
     },
     "output_type": "display_data"
    },
    {
     "name": "stdout",
     "output_type": "stream",
     "text": [
      "Average count of text\n"
     ]
    },
    {
     "data": {
      "image/png": "[encoded data removed]",
      "text/plain": [
       "<Figure size 432x288 with 1 Axes>"
      ]
     },
     "metadata": {
      "needs_background": "light"
     },
     "output_type": "display_data"
    }
   ],
   "source": [
    "char_stats(dfTrue, dfFake, 'title')\n",
    "char_stats(dfTrue, dfFake, 'text')"
   ]
  }
 ],
 "metadata": {
  "kernelspec": {
   "display_name": "Python 3 (ipykernel)",
   "language": "python",
   "name": "python3"
  },
  "language_info": {
   "codemirror_mode": {
    "name": "ipython",
    "version": 3
   },
   "file_extension": ".py",
   "mimetype": "text/x-python",
   "name": "python",
   "nbconvert_exporter": "python",
   "pygments_lexer": "ipython3",
   "version": "3.9.2"
  }
 },
 "nbformat": 4,
 "nbformat_minor": 5
}
