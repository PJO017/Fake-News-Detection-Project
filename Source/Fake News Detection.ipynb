{
 "cells": [
  {
   "cell_type": "code",
   "execution_count": 31,
   "id": "54fae1a7",
   "metadata": {},
   "outputs": [
    {
     "name": "stderr",
     "output_type": "stream",
     "text": [
      "[nltk_data] Downloading package stopwords to /home/pj/nltk_data...\n",
      "[nltk_data]   Package stopwords is already up-to-date!\n",
      "[nltk_data] Downloading package punkt to /home/pj/nltk_data...\n",
      "[nltk_data]   Package punkt is already up-to-date!\n"
     ]
    },
    {
     "data": {
      "text/plain": [
       "True"
      ]
     },
     "execution_count": 31,
     "metadata": {},
     "output_type": "execute_result"
    }
   ],
   "source": [
    "import pandas as pd\n",
    "import numpy as np\n",
    "import re\n",
    "\n",
    "import matplotlib.pyplot as plt\n",
    "\n",
    "import nltk\n",
    "from nltk.corpus import stopwords\n",
    "from nltk.tokenize import word_tokenize\n",
    "\n",
    "from sklearn.feature_extraction.text import CountVectorizer\n",
    "\n",
    "nltk.download('stopwords')\n",
    "nltk.download('punkt')"
   ]
  },
  {
   "cell_type": "markdown",
   "id": "7c478cd5",
   "metadata": {},
   "source": [
    "### Data Preprocessing\n",
    "Integrating datasets into two data frames, True and False"
   ]
  },
  {
   "cell_type": "code",
   "execution_count": 32,
   "id": "e021c386",
   "metadata": {},
   "outputs": [],
   "source": [
    "df1 = pd.read_csv('Data/archive/Fake.csv')\n",
    "df1['label'] = 'Fake'\n",
    "del df1['subject']\n",
    "del df1['date']"
   ]
  },
  {
   "cell_type": "code",
   "execution_count": 33,
   "id": "d7a37a7e",
   "metadata": {},
   "outputs": [],
   "source": [
    "df2 = pd.read_csv('Data/archive/True.csv')\n",
    "df2['label'] = 'True'\n",
    "del df2['subject']\n",
    "del df2['date']"
   ]
  },
  {
   "cell_type": "code",
   "execution_count": 34,
   "id": "7abef090",
   "metadata": {},
   "outputs": [],
   "source": [
    "df3 = pd.read_csv('Data/fake_or_real_news.csv')\n",
    "del df3['Unnamed: 0']\n",
    "df3['label'] = df3['label'].replace(['FAKE', 'REAL'], ['Fake', 'True'])"
   ]
  },
  {
   "cell_type": "code",
   "execution_count": 35,
   "id": "9f48455e",
   "metadata": {},
   "outputs": [],
   "source": [
    "df4 = pd.read_csv('Data/fake.csv')\n",
    "df4['label'] = 'Fake'\n",
    "df4 = df4[['title', 'text', 'label']].copy()"
   ]
  },
  {
   "cell_type": "code",
   "execution_count": 36,
   "id": "81c3a7a0",
   "metadata": {},
   "outputs": [
    {
     "data": {
      "text/html": [
       "<div>\n",
       "<style scoped>\n",
       "    .dataframe tbody tr th:only-of-type {\n",
       "        vertical-align: middle;\n",
       "    }\n",
       "\n",
       "    .dataframe tbody tr th {\n",
       "        vertical-align: top;\n",
       "    }\n",
       "\n",
       "    .dataframe thead th {\n",
       "        text-align: right;\n",
       "    }\n",
       "</style>\n",
       "<table border=\"1\" class=\"dataframe\">\n",
       "  <thead>\n",
       "    <tr style=\"text-align: right;\">\n",
       "      <th></th>\n",
       "      <th>title</th>\n",
       "      <th>text</th>\n",
       "      <th>label</th>\n",
       "    </tr>\n",
       "  </thead>\n",
       "  <tbody>\n",
       "    <tr>\n",
       "      <th>17189</th>\n",
       "      <td>OBAMA WILL GIVE AWAY FREE INTERNET (To Those H...</td>\n",
       "      <td>Don t turn off your paid internet service quit...</td>\n",
       "      <td>Fake</td>\n",
       "    </tr>\n",
       "    <tr>\n",
       "      <th>6207</th>\n",
       "      <td>Treasury nominee Mnuchin says long-term dollar...</td>\n",
       "      <td>WASHINGTON (Reuters) - U.S. Treasury Secretary...</td>\n",
       "      <td>True</td>\n",
       "    </tr>\n",
       "    <tr>\n",
       "      <th>16166</th>\n",
       "      <td>Expulsion of Australian ministers cast doubt o...</td>\n",
       "      <td>SYDNEY (Reuters) - Australia s main Labor oppo...</td>\n",
       "      <td>True</td>\n",
       "    </tr>\n",
       "    <tr>\n",
       "      <th>15215</th>\n",
       "      <td>Saudi Arabia faces battle to repatriate assets...</td>\n",
       "      <td>DUBAI/ZURICH (Reuters) - Saudi Arabia has anno...</td>\n",
       "      <td>True</td>\n",
       "    </tr>\n",
       "    <tr>\n",
       "      <th>2284</th>\n",
       "      <td>Currency Crisis: Alasdair MacLeod On The Vexed...</td>\n",
       "      <td>Tweet Home » Gold » Gold News » Currency Crisi...</td>\n",
       "      <td>Fake</td>\n",
       "    </tr>\n",
       "    <tr>\n",
       "      <th>1715</th>\n",
       "      <td>The Tragically Hip’s Gord Downie: A True Canad...</td>\n",
       "      <td>For those of you who have no clue who Gord Dow...</td>\n",
       "      <td>Fake</td>\n",
       "    </tr>\n",
       "    <tr>\n",
       "      <th>667</th>\n",
       "      <td>Former U.S. Vice President Biden leaves open d...</td>\n",
       "      <td>WASHINGTON (Reuters) - Former U.S. Vice Presid...</td>\n",
       "      <td>True</td>\n",
       "    </tr>\n",
       "    <tr>\n",
       "      <th>17231</th>\n",
       "      <td>UK says needs 1,200 officials to register EU n...</td>\n",
       "      <td>LONDON (Reuters) - Britain will need a total o...</td>\n",
       "      <td>True</td>\n",
       "    </tr>\n",
       "    <tr>\n",
       "      <th>21393</th>\n",
       "      <td>Danish police identify torso as missing submar...</td>\n",
       "      <td>COPENHAGEN (Reuters) - Police on Wednesday ide...</td>\n",
       "      <td>True</td>\n",
       "    </tr>\n",
       "    <tr>\n",
       "      <th>9864</th>\n",
       "      <td>On Oklahoma bombing anniversary, a pitch for G...</td>\n",
       "      <td>(Reuters) - Victim advocates and former prosec...</td>\n",
       "      <td>True</td>\n",
       "    </tr>\n",
       "    <tr>\n",
       "      <th>12985</th>\n",
       "      <td>'Glimmer of hope' as food and fuel arrives in ...</td>\n",
       "      <td>GENEVA (Reuters) - A blockade of Yemen s key p...</td>\n",
       "      <td>True</td>\n",
       "    </tr>\n",
       "    <tr>\n",
       "      <th>4272</th>\n",
       "      <td>Trump says prepared to take on North Korea wit...</td>\n",
       "      <td>WASHINGTON (Reuters) - U.S. President Donald T...</td>\n",
       "      <td>True</td>\n",
       "    </tr>\n",
       "    <tr>\n",
       "      <th>21477</th>\n",
       "      <td>BREAKING: WDBJ KILLER WAS ANGRY BLACK DEMOCRAT...</td>\n",
       "      <td>An angry black, gay, racist, Democrat victim t...</td>\n",
       "      <td>Fake</td>\n",
       "    </tr>\n",
       "    <tr>\n",
       "      <th>5133</th>\n",
       "      <td>Martha MacCallum: It's Donald Trump's moment. ...</td>\n",
       "      <td>And then there was one.\\n\\nThere is an express...</td>\n",
       "      <td>True</td>\n",
       "    </tr>\n",
       "    <tr>\n",
       "      <th>2626</th>\n",
       "      <td>Trump Loses His Sh*t After Nordstrom Stops Pe...</td>\n",
       "      <td>Donald Trump should not be lashing out like th...</td>\n",
       "      <td>Fake</td>\n",
       "    </tr>\n",
       "    <tr>\n",
       "      <th>4698</th>\n",
       "      <td>AAR unit wins $909.4 million U.S. defense cont...</td>\n",
       "      <td>WASHINGTON (Reuters) - AAR Supply Chain Inc, a...</td>\n",
       "      <td>True</td>\n",
       "    </tr>\n",
       "    <tr>\n",
       "      <th>4291</th>\n",
       "      <td>Koch Brothers Helped Incite the Impending Bloo...</td>\n",
       "      <td>By Rmuse   7:57 pm \"If the party doesn’t learn...</td>\n",
       "      <td>Fake</td>\n",
       "    </tr>\n",
       "    <tr>\n",
       "      <th>2296</th>\n",
       "      <td>‘Lunatic’: Huge Backlash From Lawmakers After...</td>\n",
       "      <td>Reality show star turned  so-called  president...</td>\n",
       "      <td>Fake</td>\n",
       "    </tr>\n",
       "    <tr>\n",
       "      <th>6762</th>\n",
       "      <td>Trump considering Dr. Scott Gottlieb to head FDA</td>\n",
       "      <td>(Reuters) - Dr. Scott Gottlieb, a partner at o...</td>\n",
       "      <td>True</td>\n",
       "    </tr>\n",
       "    <tr>\n",
       "      <th>3534</th>\n",
       "      <td>Re: Don’t Let James Comey and the FBI’s Octobe...</td>\n",
       "      <td>Email \\nIt’s not exactly breaking news that on...</td>\n",
       "      <td>Fake</td>\n",
       "    </tr>\n",
       "  </tbody>\n",
       "</table>\n",
       "</div>"
      ],
      "text/plain": [
       "                                                   title  \\\n",
       "17189  OBAMA WILL GIVE AWAY FREE INTERNET (To Those H...   \n",
       "6207   Treasury nominee Mnuchin says long-term dollar...   \n",
       "16166  Expulsion of Australian ministers cast doubt o...   \n",
       "15215  Saudi Arabia faces battle to repatriate assets...   \n",
       "2284   Currency Crisis: Alasdair MacLeod On The Vexed...   \n",
       "1715   The Tragically Hip’s Gord Downie: A True Canad...   \n",
       "667    Former U.S. Vice President Biden leaves open d...   \n",
       "17231  UK says needs 1,200 officials to register EU n...   \n",
       "21393  Danish police identify torso as missing submar...   \n",
       "9864   On Oklahoma bombing anniversary, a pitch for G...   \n",
       "12985  'Glimmer of hope' as food and fuel arrives in ...   \n",
       "4272   Trump says prepared to take on North Korea wit...   \n",
       "21477  BREAKING: WDBJ KILLER WAS ANGRY BLACK DEMOCRAT...   \n",
       "5133   Martha MacCallum: It's Donald Trump's moment. ...   \n",
       "2626    Trump Loses His Sh*t After Nordstrom Stops Pe...   \n",
       "4698   AAR unit wins $909.4 million U.S. defense cont...   \n",
       "4291   Koch Brothers Helped Incite the Impending Bloo...   \n",
       "2296    ‘Lunatic’: Huge Backlash From Lawmakers After...   \n",
       "6762    Trump considering Dr. Scott Gottlieb to head FDA   \n",
       "3534   Re: Don’t Let James Comey and the FBI’s Octobe...   \n",
       "\n",
       "                                                    text label  \n",
       "17189  Don t turn off your paid internet service quit...  Fake  \n",
       "6207   WASHINGTON (Reuters) - U.S. Treasury Secretary...  True  \n",
       "16166  SYDNEY (Reuters) - Australia s main Labor oppo...  True  \n",
       "15215  DUBAI/ZURICH (Reuters) - Saudi Arabia has anno...  True  \n",
       "2284   Tweet Home » Gold » Gold News » Currency Crisi...  Fake  \n",
       "1715   For those of you who have no clue who Gord Dow...  Fake  \n",
       "667    WASHINGTON (Reuters) - Former U.S. Vice Presid...  True  \n",
       "17231  LONDON (Reuters) - Britain will need a total o...  True  \n",
       "21393  COPENHAGEN (Reuters) - Police on Wednesday ide...  True  \n",
       "9864   (Reuters) - Victim advocates and former prosec...  True  \n",
       "12985  GENEVA (Reuters) - A blockade of Yemen s key p...  True  \n",
       "4272   WASHINGTON (Reuters) - U.S. President Donald T...  True  \n",
       "21477  An angry black, gay, racist, Democrat victim t...  Fake  \n",
       "5133   And then there was one.\\n\\nThere is an express...  True  \n",
       "2626   Donald Trump should not be lashing out like th...  Fake  \n",
       "4698   WASHINGTON (Reuters) - AAR Supply Chain Inc, a...  True  \n",
       "4291   By Rmuse   7:57 pm \"If the party doesn’t learn...  Fake  \n",
       "2296   Reality show star turned  so-called  president...  Fake  \n",
       "6762   (Reuters) - Dr. Scott Gottlieb, a partner at o...  True  \n",
       "3534   Email \\nIt’s not exactly breaking news that on...  Fake  "
      ]
     },
     "execution_count": 36,
     "metadata": {},
     "output_type": "execute_result"
    }
   ],
   "source": [
    "frames = [df1, df2, df3, df4]\n",
    "data = pd.concat(frames)\n",
    "data.sample(20)"
   ]
  },
  {
   "cell_type": "markdown",
   "id": "c8ddd00d",
   "metadata": {},
   "source": [
    "### Modified data quality report\n",
    "Helps determine what further cleaning needs to be done"
   ]
  },
  {
   "cell_type": "code",
   "execution_count": 37,
   "id": "90390c6c",
   "metadata": {},
   "outputs": [
    {
     "data": {
      "text/html": [
       "<div>\n",
       "<style scoped>\n",
       "    .dataframe tbody tr th:only-of-type {\n",
       "        vertical-align: middle;\n",
       "    }\n",
       "\n",
       "    .dataframe tbody tr th {\n",
       "        vertical-align: top;\n",
       "    }\n",
       "\n",
       "    .dataframe thead th {\n",
       "        text-align: right;\n",
       "    }\n",
       "</style>\n",
       "<table border=\"1\" class=\"dataframe\">\n",
       "  <thead>\n",
       "    <tr style=\"text-align: right;\">\n",
       "      <th></th>\n",
       "      <th>Feature</th>\n",
       "      <th>Count</th>\n",
       "      <th>% Missing</th>\n",
       "      <th>Cardinality</th>\n",
       "      <th>Mode</th>\n",
       "      <th>Mode Freq.</th>\n",
       "      <th>Mode %</th>\n",
       "      <th>Notes</th>\n",
       "    </tr>\n",
       "  </thead>\n",
       "  <tbody>\n",
       "    <tr>\n",
       "      <th>0</th>\n",
       "      <td>title</td>\n",
       "      <td>63552</td>\n",
       "      <td>1.058662</td>\n",
       "      <td>53541</td>\n",
       "      <td>Factbox: Trump fills top jobs for his administ...</td>\n",
       "      <td>14</td>\n",
       "      <td>0.022029</td>\n",
       "      <td></td>\n",
       "    </tr>\n",
       "    <tr>\n",
       "      <th>1</th>\n",
       "      <td>text</td>\n",
       "      <td>64186</td>\n",
       "      <td>0.071615</td>\n",
       "      <td>54064</td>\n",
       "      <td>null</td>\n",
       "      <td>769</td>\n",
       "      <td>1.198081</td>\n",
       "      <td></td>\n",
       "    </tr>\n",
       "    <tr>\n",
       "      <th>2</th>\n",
       "      <td>label</td>\n",
       "      <td>64232</td>\n",
       "      <td>0.000000</td>\n",
       "      <td>2</td>\n",
       "      <td>Fake</td>\n",
       "      <td>39644</td>\n",
       "      <td>61.720015</td>\n",
       "      <td></td>\n",
       "    </tr>\n",
       "  </tbody>\n",
       "</table>\n",
       "</div>"
      ],
      "text/plain": [
       "  Feature  Count  % Missing  Cardinality  \\\n",
       "0   title  63552   1.058662        53541   \n",
       "1    text  64186   0.071615        54064   \n",
       "2   label  64232   0.000000            2   \n",
       "\n",
       "                                                Mode Mode Freq.     Mode %  \\\n",
       "0  Factbox: Trump fills top jobs for his administ...         14   0.022029   \n",
       "1                                               null        769   1.198081   \n",
       "2                                               Fake      39644  61.720015   \n",
       "\n",
       "  Notes  \n",
       "0        \n",
       "1        \n",
       "2        "
      ]
     },
     "execution_count": 37,
     "metadata": {},
     "output_type": "execute_result"
    }
   ],
   "source": [
    "# Constructing a data quality report for the data\n",
    "cat_data = {'Feature': ['title', 'text', 'label'],\n",
    "            'Count': data.count(),\n",
    "            '% Missing': data.isnull().sum() * 100 / len(data),\n",
    "            'Cardinality': data.apply(pd.Series.nunique),\n",
    "            'Mode': [data.mode()['title'][0], 'null', data.mode()['label'][0]],\n",
    "            'Mode Freq.': ['14', '769', '39644'],\n",
    "            'Mode %': [14 / 63552 * 100, 769 / 64186 * 100 , 39644 / 64232 * 100],\n",
    "    \n",
    "            'Notes': ['', '', '']}\n",
    "cat_dqr_df = pd.DataFrame(cat_data)\n",
    "cat_dqr_df.reset_index(drop=True, inplace=True)\n",
    "cat_dqr_df"
   ]
  },
  {
   "cell_type": "code",
   "execution_count": 38,
   "id": "6c7f5350",
   "metadata": {},
   "outputs": [
    {
     "name": "stdout",
     "output_type": "stream",
     "text": [
      "<class 'pandas.core.frame.DataFrame'>\n",
      "Int64Index: 30752 entries, 0 to 12998\n",
      "Data columns (total 3 columns):\n",
      " #   Column  Non-Null Count  Dtype \n",
      "---  ------  --------------  ----- \n",
      " 0   title   30122 non-null  object\n",
      " 1   text    30706 non-null  object\n",
      " 2   label   30752 non-null  object\n",
      "dtypes: object(3)\n",
      "memory usage: 961.0+ KB\n",
      "<class 'pandas.core.frame.DataFrame'>\n",
      "Int64Index: 24351 entries, 0 to 6334\n",
      "Data columns (total 3 columns):\n",
      " #   Column  Non-Null Count  Dtype \n",
      "---  ------  --------------  ----- \n",
      " 0   title   24351 non-null  object\n",
      " 1   text    24351 non-null  object\n",
      " 2   label   24351 non-null  object\n",
      "dtypes: object(3)\n",
      "memory usage: 761.0+ KB\n"
     ]
    }
   ],
   "source": [
    "data.drop_duplicates(inplace = True)\n",
    "\n",
    "dfTrue = data[data['label'] == 'True']\n",
    "dfFake = data[data['label'] == 'Fake']\n",
    "\n",
    "dfFake.info()\n",
    "dfTrue.info()"
   ]
  },
  {
   "cell_type": "code",
   "execution_count": 39,
   "id": "649d9180",
   "metadata": {},
   "outputs": [],
   "source": [
    "# Train using 20% \n",
    "dfTrue = dfTrue.head(int(0.2 * dfTrue.shape[0]))\n",
    "dfFake = dfFake.head(int(0.2 * dfFake.shape[0]))"
   ]
  },
  {
   "cell_type": "markdown",
   "id": "9ace9418",
   "metadata": {},
   "source": [
    "### Data Cleaning\n",
    "Removing stopwords, punctuation, and whitespace characters"
   ]
  },
  {
   "cell_type": "code",
   "execution_count": 40,
   "id": "2407b4a4",
   "metadata": {},
   "outputs": [],
   "source": [
    "def clean_string(input):\n",
    "    stops = set(stopwords.words(\"english\"))  # Set of stopwords\n",
    "\n",
    "    input_tokenized = word_tokenize(input)   # Tokenize input\n",
    "    input_without_sw = [word for word in input_tokenized if not word in stops]  # Remove stopwords\n",
    "    input = (\" \").join(input_without_sw)  # Combine back into sentence\n",
    "\n",
    "    input = input.lower()\n",
    "    input = re.sub('\\n|\\r|\\t', '', input)   # Remove whitespace chars\n",
    "    input = re.sub(r'[^\\w\\s]+', '', input)  # Remove punctuation\n",
    "    \n",
    "    \n",
    "    return input\n",
    "\n",
    "def preprocess(df):\n",
    "    df.dropna(axis=0, inplace = True)  # Remove rows with missing values\n",
    "    cleanfunc = np.vectorize(clean_string)    # Use vectorization to increase speed\n",
    "    df['title'] = cleanfunc(df['title'])\n",
    "    df['text'] = cleanfunc(df['text'])\n",
    "    return df"
   ]
  },
  {
   "cell_type": "code",
   "execution_count": 41,
   "id": "268039a2",
   "metadata": {},
   "outputs": [],
   "source": [
    "dfTrue = preprocess(dfTrue)\n",
    "dfFake = preprocess(dfFake)"
   ]
  },
  {
   "cell_type": "markdown",
   "id": "8f62cbfc",
   "metadata": {},
   "source": [
    "### Feature Extraction & Visualization"
   ]
  },
  {
   "cell_type": "markdown",
   "id": "853035f5",
   "metadata": {},
   "source": [
    "#### Character Count in Title and Text"
   ]
  },
  {
   "cell_type": "code",
   "execution_count": 47,
   "id": "8974a94a",
   "metadata": {},
   "outputs": [],
   "source": [
    "def getCharCount(df, field):\n",
    "  return [len(text) for text in df[field].to_list()]\n",
    "\n",
    "\n",
    "def histogram_char_count(df, count, field, label):\n",
    "  plt.hist(count)\n",
    "  plt.xlabel(\"Characters\")\n",
    "  plt.ylabel(\"News\")\n",
    "  plt.title(f'Character Count Distribution of {field} in {label} News')\n",
    "  plt.show()\n",
    "  \n",
    "def plot_avg_char_count(dfTrue, dfFake, field, countTrue, countFake):\n",
    "  avg_count_true = int(np.average(countTrue))\n",
    "  avg_count_fake = int(np.mean(countFake))\n",
    "\n",
    "  df = pd.DataFrame([['True', int(avg_count_true)], ['Fake', int(avg_count_fake)]], columns=['News', 'Characters'])\n",
    "  df.plot(x='News', y='Characters', kind='bar', width=0.3, xlabel='News', legend=False,\n",
    "                    ylabel='Characters', title=f'Average Character Count of {field}')  \n",
    "  plt.xticks(rotation=0)\n",
    "  plt.show()\n",
    "  \n",
    "\n",
    "def character_stats(dfTrue, dfFake, field):\n",
    "  print(f\"Character Count Distribution of {field}\")\n",
    "  true_char_count= getCharCount(dfTrue, field)\n",
    "  histogram_char_count(dfTrue, true_char_count, field, \"True\")\n",
    "\n",
    "  fake_char_count = getCharCount(dfFake, field)\n",
    "  histogram_char_count(dfFake, fake_char_count, field, \"Fake\") \n",
    "\n",
    "  print(f\"Average Count of {field}\")\n",
    "  plot_avg_char_count(dfTrue, dfFake, field, true_char_count, fake_char_count)"
   ]
  },
  {
   "cell_type": "code",
   "execution_count": 50,
   "id": "0d5550e4",
   "metadata": {},
   "outputs": [
    {
     "name": "stdout",
     "output_type": "stream",
     "text": [
      "Character Count Distribution of title\n"
     ]
    },
    {
     "data": {
      "image/png": "[encoded data removed]",
      "text/plain": [
       "<Figure size 432x288 with 1 Axes>"
      ]
     },
     "metadata": {
      "needs_background": "light"
     },
     "output_type": "display_data"
    },
    {
     "data": {
      "image/png": "[encoded data removed]",
      "text/plain": [
       "<Figure size 432x288 with 1 Axes>"
      ]
     },
     "metadata": {
      "needs_background": "light"
     },
     "output_type": "display_data"
    },
    {
     "name": "stdout",
     "output_type": "stream",
     "text": [
      "Average Count of title\n"
     ]
    },
    {
     "data": {
      "image/png": "[encoded data removed]",
      "text/plain": [
       "<Figure size 432x288 with 1 Axes>"
      ]
     },
     "metadata": {
      "needs_background": "light"
     },
     "output_type": "display_data"
    },
    {
     "name": "stdout",
     "output_type": "stream",
     "text": [
      "Character Count Distribution of text\n"
     ]
    },
    {
     "data": {
      "image/png": "[encoded data removed]",
      "text/plain": [
       "<Figure size 432x288 with 1 Axes>"
      ]
     },
     "metadata": {
      "needs_background": "light"
     },
     "output_type": "display_data"
    },
    {
     "data": {
      "image/png": "[encoded data removed]",
      "text/plain": [
       "<Figure size 432x288 with 1 Axes>"
      ]
     },
     "metadata": {
      "needs_background": "light"
     },
     "output_type": "display_data"
    },
    {
     "name": "stdout",
     "output_type": "stream",
     "text": [
      "Average Count of text\n"
     ]
    },
    {
     "data": {
      "image/png": "[encoded data removed]",
      "text/plain": [
       "<Figure size 432x288 with 1 Axes>"
      ]
     },
     "metadata": {
      "needs_background": "light"
     },
     "output_type": "display_data"
    }
   ],
   "source": [
    "character_stats(dfTrue, dfFake, 'title')\n",
    "character_stats(dfTrue, dfFake, 'text')"
   ]
  },
  {
   "cell_type": "markdown",
   "id": "a2281ad2",
   "metadata": {},
   "source": [
    "#### Word count in Title and Text"
   ]
  },
  {
   "cell_type": "code",
   "execution_count": 48,
   "id": "6a458327",
   "metadata": {},
   "outputs": [],
   "source": [
    "vectorizer = CountVectorizer()\n",
    "\n",
    "def getWordCount(df, field):\n",
    "  counts = []\n",
    "  for text in df[field].to_list():\n",
    "    text_count = np.sum(vectorizer.fit_transform([text]).toarray())\n",
    "    counts.append(text_count)\n",
    "  return counts\n",
    "\n",
    "def histogram_word_count(df, count, field, label):\n",
    "  plt.hist(count)\n",
    "  plt.xlabel(\"Words\")\n",
    "  plt.ylabel(\"News\")\n",
    "  plt.title(f'Word Count Distribution of {field} in {label} News')\n",
    "  plt.show()\n",
    "  \n",
    "def plot_avg_word_count(dfTrue, dfFake, field, countTrue, countFake):\n",
    "  avg_count_true = int(np.average(countTrue))\n",
    "  avg_count_fake = int(np.mean(countFake))\n",
    "\n",
    "  df = pd.DataFrame([['True', int(avg_count_true)], ['Fake', int(avg_count_fake)]], columns=['News', 'Words'])\n",
    "  df.plot(x='News', y='Words', kind='bar', width=0.3, xlabel='News', legend=False,\n",
    "                    ylabel='Words', title=f'Average Word Count of {field}')  \n",
    "  plt.xticks(rotation=0)\n",
    "  plt.show()\n",
    "  \n",
    "\n",
    "def word_stats(dfTrue, dfFake, field):\n",
    "  print(f\"Word Count Distribution of {field}\")\n",
    "  true_word_count= getWordCount(dfTrue, field)\n",
    "  histogram_word_count(dfTrue, true_word_count, field, \"True\")\n",
    "\n",
    "  fake_word_count = getWordCount(dfFake, field)\n",
    "  histogram_word_count(dfFake, fake_word_count, field, \"Fake\") \n",
    "\n",
    "  print(f\"Average count of {field}\")\n",
    "  plot_avg_word_count(dfTrue, dfFake, field, true_word_count, fake_word_count)\n"
   ]
  },
  {
   "cell_type": "code",
   "execution_count": 49,
   "id": "8a32058b",
   "metadata": {},
   "outputs": [
    {
     "name": "stdout",
     "output_type": "stream",
     "text": [
      "Word Count Distribution of title\n"
     ]
    },
    {
     "data": {
      "image/png": "[encoded data removed]",
      "text/plain": [
       "<Figure size 432x288 with 1 Axes>"
      ]
     },
     "metadata": {
      "needs_background": "light"
     },
     "output_type": "display_data"
    },
    {
     "data": {
      "image/png": "[encoded data removed]",
      "text/plain": [
       "<Figure size 432x288 with 1 Axes>"
      ]
     },
     "metadata": {
      "needs_background": "light"
     },
     "output_type": "display_data"
    },
    {
     "name": "stdout",
     "output_type": "stream",
     "text": [
      "Average count of title\n"
     ]
    },
    {
     "data": {
      "image/png": "[encoded data removed]",
      "text/plain": [
       "<Figure size 432x288 with 1 Axes>"
      ]
     },
     "metadata": {
      "needs_background": "light"
     },
     "output_type": "display_data"
    },
    {
     "name": "stdout",
     "output_type": "stream",
     "text": [
      "Word Count Distribution of text\n"
     ]
    },
    {
     "data": {
      "image/png": "[encoded data removed]",
      "text/plain": [
       "<Figure size 432x288 with 1 Axes>"
      ]
     },
     "metadata": {
      "needs_background": "light"
     },
     "output_type": "display_data"
    },
    {
     "data": {
      "image/png": "[encoded data removed]",
      "text/plain": [
       "<Figure size 432x288 with 1 Axes>"
      ]
     },
     "metadata": {
      "needs_background": "light"
     },
     "output_type": "display_data"
    },
    {
     "name": "stdout",
     "output_type": "stream",
     "text": [
      "Average count of text\n"
     ]
    },
    {
     "data": {
      "image/png": "[encoded data removed]",
      "text/plain": [
       "<Figure size 432x288 with 1 Axes>"
      ]
     },
     "metadata": {
      "needs_background": "light"
     },
     "output_type": "display_data"
    }
   ],
   "source": [
    "word_stats(dfTrue, dfFake, 'title')\n",
    "word_stats(dfTrue, dfFake, 'text')"
   ]
  }
 ],
 "metadata": {
  "kernelspec": {
   "display_name": "Python 3 (ipykernel)",
   "language": "python",
   "name": "python3"
  },
  "language_info": {
   "codemirror_mode": {
    "name": "ipython",
    "version": 3
   },
   "file_extension": ".py",
   "mimetype": "text/x-python",
   "name": "python",
   "nbconvert_exporter": "python",
   "pygments_lexer": "ipython3",
   "version": "3.9.2"
  }
 },
 "nbformat": 4,
 "nbformat_minor": 5
}
